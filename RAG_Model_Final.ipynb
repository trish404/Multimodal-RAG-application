{
  "nbformat": 4,
  "nbformat_minor": 0,
  "metadata": {
    "colab": {
      "provenance": [],
      "gpuType": "T4"
    },
    "kernelspec": {
      "name": "python3",
      "display_name": "Python 3"
    },
    "language_info": {
      "name": "python"
    },
    "accelerator": "GPU"
  },
  "cells": [
    {
      "cell_type": "code",
      "execution_count": 1,
      "metadata": {
        "colab": {
          "base_uri": "https://localhost:8080/"
        },
        "id": "m80gVSv2YM99",
        "outputId": "5f55903f-5df1-4afd-d6c4-6e086ef915a1"
      },
      "outputs": [
        {
          "output_type": "stream",
          "name": "stdout",
          "text": [
            "Collecting pymupdf\n",
            "  Downloading PyMuPDF-1.24.10-cp310-none-manylinux2014_x86_64.whl.metadata (3.4 kB)\n",
            "Requirement already satisfied: Pillow in /usr/local/lib/python3.10/dist-packages (10.4.0)\n",
            "Collecting PyMuPDFb==1.24.10 (from pymupdf)\n",
            "  Downloading PyMuPDFb-1.24.10-py3-none-manylinux2014_x86_64.manylinux_2_17_x86_64.whl.metadata (1.4 kB)\n",
            "Downloading PyMuPDF-1.24.10-cp310-none-manylinux2014_x86_64.whl (3.5 MB)\n",
            "\u001b[2K   \u001b[90m━━━━━━━━━━━━━━━━━━━━━━━━━━━━━━━━━━━━━━━━\u001b[0m \u001b[32m3.5/3.5 MB\u001b[0m \u001b[31m66.8 MB/s\u001b[0m eta \u001b[36m0:00:00\u001b[0m\n",
            "\u001b[?25hDownloading PyMuPDFb-1.24.10-py3-none-manylinux2014_x86_64.manylinux_2_17_x86_64.whl (15.9 MB)\n",
            "\u001b[2K   \u001b[90m━━━━━━━━━━━━━━━━━━━━━━━━━━━━━━━━━━━━━━━━\u001b[0m \u001b[32m15.9/15.9 MB\u001b[0m \u001b[31m97.2 MB/s\u001b[0m eta \u001b[36m0:00:00\u001b[0m\n",
            "\u001b[?25hInstalling collected packages: PyMuPDFb, pymupdf\n",
            "Successfully installed PyMuPDFb-1.24.10 pymupdf-1.24.10\n"
          ]
        }
      ],
      "source": [
        "!pip install pymupdf Pillow"
      ]
    },
    {
      "cell_type": "code",
      "source": [
        "!pip install transformers timm"
      ],
      "metadata": {
        "colab": {
          "base_uri": "https://localhost:8080/"
        },
        "id": "cXtlS9E5IvPx",
        "outputId": "afab1202-7a44-4a48-f6ad-2e05508e0d74"
      },
      "execution_count": 2,
      "outputs": [
        {
          "output_type": "stream",
          "name": "stdout",
          "text": [
            "Requirement already satisfied: transformers in /usr/local/lib/python3.10/dist-packages (4.44.2)\n",
            "Collecting timm\n",
            "  Downloading timm-1.0.9-py3-none-any.whl.metadata (42 kB)\n",
            "\u001b[2K     \u001b[90m━━━━━━━━━━━━━━━━━━━━━━━━━━━━━━━━━━━━━━━━\u001b[0m \u001b[32m42.4/42.4 kB\u001b[0m \u001b[31m3.2 MB/s\u001b[0m eta \u001b[36m0:00:00\u001b[0m\n",
            "\u001b[?25hRequirement already satisfied: filelock in /usr/local/lib/python3.10/dist-packages (from transformers) (3.16.0)\n",
            "Requirement already satisfied: huggingface-hub<1.0,>=0.23.2 in /usr/local/lib/python3.10/dist-packages (from transformers) (0.24.7)\n",
            "Requirement already satisfied: numpy>=1.17 in /usr/local/lib/python3.10/dist-packages (from transformers) (1.26.4)\n",
            "Requirement already satisfied: packaging>=20.0 in /usr/local/lib/python3.10/dist-packages (from transformers) (24.1)\n",
            "Requirement already satisfied: pyyaml>=5.1 in /usr/local/lib/python3.10/dist-packages (from transformers) (6.0.2)\n",
            "Requirement already satisfied: regex!=2019.12.17 in /usr/local/lib/python3.10/dist-packages (from transformers) (2024.9.11)\n",
            "Requirement already satisfied: requests in /usr/local/lib/python3.10/dist-packages (from transformers) (2.32.3)\n",
            "Requirement already satisfied: safetensors>=0.4.1 in /usr/local/lib/python3.10/dist-packages (from transformers) (0.4.5)\n",
            "Requirement already satisfied: tokenizers<0.20,>=0.19 in /usr/local/lib/python3.10/dist-packages (from transformers) (0.19.1)\n",
            "Requirement already satisfied: tqdm>=4.27 in /usr/local/lib/python3.10/dist-packages (from transformers) (4.66.5)\n",
            "Requirement already satisfied: torch in /usr/local/lib/python3.10/dist-packages (from timm) (2.4.1+cu121)\n",
            "Requirement already satisfied: torchvision in /usr/local/lib/python3.10/dist-packages (from timm) (0.19.1+cu121)\n",
            "Requirement already satisfied: fsspec>=2023.5.0 in /usr/local/lib/python3.10/dist-packages (from huggingface-hub<1.0,>=0.23.2->transformers) (2024.6.1)\n",
            "Requirement already satisfied: typing-extensions>=3.7.4.3 in /usr/local/lib/python3.10/dist-packages (from huggingface-hub<1.0,>=0.23.2->transformers) (4.12.2)\n",
            "Requirement already satisfied: charset-normalizer<4,>=2 in /usr/local/lib/python3.10/dist-packages (from requests->transformers) (3.3.2)\n",
            "Requirement already satisfied: idna<4,>=2.5 in /usr/local/lib/python3.10/dist-packages (from requests->transformers) (3.10)\n",
            "Requirement already satisfied: urllib3<3,>=1.21.1 in /usr/local/lib/python3.10/dist-packages (from requests->transformers) (2.0.7)\n",
            "Requirement already satisfied: certifi>=2017.4.17 in /usr/local/lib/python3.10/dist-packages (from requests->transformers) (2024.8.30)\n",
            "Requirement already satisfied: sympy in /usr/local/lib/python3.10/dist-packages (from torch->timm) (1.13.2)\n",
            "Requirement already satisfied: networkx in /usr/local/lib/python3.10/dist-packages (from torch->timm) (3.3)\n",
            "Requirement already satisfied: jinja2 in /usr/local/lib/python3.10/dist-packages (from torch->timm) (3.1.4)\n",
            "Requirement already satisfied: pillow!=8.3.*,>=5.3.0 in /usr/local/lib/python3.10/dist-packages (from torchvision->timm) (10.4.0)\n",
            "Requirement already satisfied: MarkupSafe>=2.0 in /usr/local/lib/python3.10/dist-packages (from jinja2->torch->timm) (2.1.5)\n",
            "Requirement already satisfied: mpmath<1.4,>=1.1.0 in /usr/local/lib/python3.10/dist-packages (from sympy->torch->timm) (1.3.0)\n",
            "Downloading timm-1.0.9-py3-none-any.whl (2.3 MB)\n",
            "\u001b[2K   \u001b[90m━━━━━━━━━━━━━━━━━━━━━━━━━━━━━━━━━━━━━━━━\u001b[0m \u001b[32m2.3/2.3 MB\u001b[0m \u001b[31m30.1 MB/s\u001b[0m eta \u001b[36m0:00:00\u001b[0m\n",
            "\u001b[?25hInstalling collected packages: timm\n",
            "Successfully installed timm-1.0.9\n"
          ]
        }
      ]
    },
    {
      "cell_type": "code",
      "source": [
        "!pip install faiss-cpu"
      ],
      "metadata": {
        "colab": {
          "base_uri": "https://localhost:8080/"
        },
        "id": "e3Fo9Mcja1RG",
        "outputId": "277f5ba2-049f-4ab6-b756-bf75eb492ef8"
      },
      "execution_count": 4,
      "outputs": [
        {
          "output_type": "stream",
          "name": "stdout",
          "text": [
            "Collecting faiss-cpu\n",
            "  Downloading faiss_cpu-1.8.0.post1-cp310-cp310-manylinux_2_17_x86_64.manylinux2014_x86_64.whl.metadata (3.7 kB)\n",
            "Requirement already satisfied: numpy<2.0,>=1.0 in /usr/local/lib/python3.10/dist-packages (from faiss-cpu) (1.26.4)\n",
            "Requirement already satisfied: packaging in /usr/local/lib/python3.10/dist-packages (from faiss-cpu) (24.1)\n",
            "Downloading faiss_cpu-1.8.0.post1-cp310-cp310-manylinux_2_17_x86_64.manylinux2014_x86_64.whl (27.0 MB)\n",
            "\u001b[2K   \u001b[90m━━━━━━━━━━━━━━━━━━━━━━━━━━━━━━━━━━━━━━━━\u001b[0m \u001b[32m27.0/27.0 MB\u001b[0m \u001b[31m73.3 MB/s\u001b[0m eta \u001b[36m0:00:00\u001b[0m\n",
            "\u001b[?25hInstalling collected packages: faiss-cpu\n",
            "Successfully installed faiss-cpu-1.8.0.post1\n"
          ]
        }
      ]
    },
    {
      "cell_type": "code",
      "source": [
        "!pip install transformers"
      ],
      "metadata": {
        "colab": {
          "base_uri": "https://localhost:8080/"
        },
        "id": "jJiHmwvnXQ6s",
        "outputId": "b221dc0a-d1b3-4d60-9814-36d886eb4f9a"
      },
      "execution_count": 20,
      "outputs": [
        {
          "output_type": "stream",
          "name": "stdout",
          "text": [
            "Requirement already satisfied: transformers in /usr/local/lib/python3.10/dist-packages (4.44.2)\n",
            "Requirement already satisfied: filelock in /usr/local/lib/python3.10/dist-packages (from transformers) (3.16.0)\n",
            "Requirement already satisfied: huggingface-hub<1.0,>=0.23.2 in /usr/local/lib/python3.10/dist-packages (from transformers) (0.24.7)\n",
            "Requirement already satisfied: numpy>=1.17 in /usr/local/lib/python3.10/dist-packages (from transformers) (1.26.4)\n",
            "Requirement already satisfied: packaging>=20.0 in /usr/local/lib/python3.10/dist-packages (from transformers) (24.1)\n",
            "Requirement already satisfied: pyyaml>=5.1 in /usr/local/lib/python3.10/dist-packages (from transformers) (6.0.2)\n",
            "Requirement already satisfied: regex!=2019.12.17 in /usr/local/lib/python3.10/dist-packages (from transformers) (2024.9.11)\n",
            "Requirement already satisfied: requests in /usr/local/lib/python3.10/dist-packages (from transformers) (2.32.3)\n",
            "Requirement already satisfied: safetensors>=0.4.1 in /usr/local/lib/python3.10/dist-packages (from transformers) (0.4.5)\n",
            "Requirement already satisfied: tokenizers<0.20,>=0.19 in /usr/local/lib/python3.10/dist-packages (from transformers) (0.19.1)\n",
            "Requirement already satisfied: tqdm>=4.27 in /usr/local/lib/python3.10/dist-packages (from transformers) (4.66.5)\n",
            "Requirement already satisfied: fsspec>=2023.5.0 in /usr/local/lib/python3.10/dist-packages (from huggingface-hub<1.0,>=0.23.2->transformers) (2024.6.1)\n",
            "Requirement already satisfied: typing-extensions>=3.7.4.3 in /usr/local/lib/python3.10/dist-packages (from huggingface-hub<1.0,>=0.23.2->transformers) (4.12.2)\n",
            "Requirement already satisfied: charset-normalizer<4,>=2 in /usr/local/lib/python3.10/dist-packages (from requests->transformers) (3.3.2)\n",
            "Requirement already satisfied: idna<4,>=2.5 in /usr/local/lib/python3.10/dist-packages (from requests->transformers) (3.10)\n",
            "Requirement already satisfied: urllib3<3,>=1.21.1 in /usr/local/lib/python3.10/dist-packages (from requests->transformers) (2.0.7)\n",
            "Requirement already satisfied: certifi>=2017.4.17 in /usr/local/lib/python3.10/dist-packages (from requests->transformers) (2024.8.30)\n"
          ]
        }
      ]
    },
    {
      "cell_type": "code",
      "source": [
        "import faiss\n",
        "import numpy as np\n",
        "import torch\n",
        "import fitz  # used for text and image extraction from PDF\n",
        "from transformers import CLIPProcessor, CLIPModel, BlipForConditionalGeneration, BlipProcessor\n",
        "from transformers import T5ForConditionalGeneration, T5Tokenizer\n",
        "from PIL import Image\n",
        "from io import BytesIO\n",
        "import matplotlib.pyplot as plt\n",
        "import re  # For NLP preprocessing\n",
        "import pandas as pd  # feedback in a DataFrame\n",
        "import textwrap  # formatting paragraphs for easier reading\n",
        "from google.colab import files"
      ],
      "metadata": {
        "id": "I4kJ85flbGfo"
      },
      "execution_count": 22,
      "outputs": []
    },
    {
      "cell_type": "code",
      "source": [
        "file_input = files.upload() #upload file using google colabs upload method"
      ],
      "metadata": {
        "colab": {
          "base_uri": "https://localhost:8080/",
          "height": 74
        },
        "id": "wdNr0W-JbSrC",
        "outputId": "c009c0fc-a080-4e53-b870-ab65db8c651b"
      },
      "execution_count": 23,
      "outputs": [
        {
          "output_type": "display_data",
          "data": {
            "text/plain": [
              "<IPython.core.display.HTML object>"
            ],
            "text/html": [
              "\n",
              "     <input type=\"file\" id=\"files-2ec86efc-e42d-4df3-b2a3-f3ff3fe70165\" name=\"files[]\" multiple disabled\n",
              "        style=\"border:none\" />\n",
              "     <output id=\"result-2ec86efc-e42d-4df3-b2a3-f3ff3fe70165\">\n",
              "      Upload widget is only available when the cell has been executed in the\n",
              "      current browser session. Please rerun this cell to enable.\n",
              "      </output>\n",
              "      <script>// Copyright 2017 Google LLC\n",
              "//\n",
              "// Licensed under the Apache License, Version 2.0 (the \"License\");\n",
              "// you may not use this file except in compliance with the License.\n",
              "// You may obtain a copy of the License at\n",
              "//\n",
              "//      http://www.apache.org/licenses/LICENSE-2.0\n",
              "//\n",
              "// Unless required by applicable law or agreed to in writing, software\n",
              "// distributed under the License is distributed on an \"AS IS\" BASIS,\n",
              "// WITHOUT WARRANTIES OR CONDITIONS OF ANY KIND, either express or implied.\n",
              "// See the License for the specific language governing permissions and\n",
              "// limitations under the License.\n",
              "\n",
              "/**\n",
              " * @fileoverview Helpers for google.colab Python module.\n",
              " */\n",
              "(function(scope) {\n",
              "function span(text, styleAttributes = {}) {\n",
              "  const element = document.createElement('span');\n",
              "  element.textContent = text;\n",
              "  for (const key of Object.keys(styleAttributes)) {\n",
              "    element.style[key] = styleAttributes[key];\n",
              "  }\n",
              "  return element;\n",
              "}\n",
              "\n",
              "// Max number of bytes which will be uploaded at a time.\n",
              "const MAX_PAYLOAD_SIZE = 100 * 1024;\n",
              "\n",
              "function _uploadFiles(inputId, outputId) {\n",
              "  const steps = uploadFilesStep(inputId, outputId);\n",
              "  const outputElement = document.getElementById(outputId);\n",
              "  // Cache steps on the outputElement to make it available for the next call\n",
              "  // to uploadFilesContinue from Python.\n",
              "  outputElement.steps = steps;\n",
              "\n",
              "  return _uploadFilesContinue(outputId);\n",
              "}\n",
              "\n",
              "// This is roughly an async generator (not supported in the browser yet),\n",
              "// where there are multiple asynchronous steps and the Python side is going\n",
              "// to poll for completion of each step.\n",
              "// This uses a Promise to block the python side on completion of each step,\n",
              "// then passes the result of the previous step as the input to the next step.\n",
              "function _uploadFilesContinue(outputId) {\n",
              "  const outputElement = document.getElementById(outputId);\n",
              "  const steps = outputElement.steps;\n",
              "\n",
              "  const next = steps.next(outputElement.lastPromiseValue);\n",
              "  return Promise.resolve(next.value.promise).then((value) => {\n",
              "    // Cache the last promise value to make it available to the next\n",
              "    // step of the generator.\n",
              "    outputElement.lastPromiseValue = value;\n",
              "    return next.value.response;\n",
              "  });\n",
              "}\n",
              "\n",
              "/**\n",
              " * Generator function which is called between each async step of the upload\n",
              " * process.\n",
              " * @param {string} inputId Element ID of the input file picker element.\n",
              " * @param {string} outputId Element ID of the output display.\n",
              " * @return {!Iterable<!Object>} Iterable of next steps.\n",
              " */\n",
              "function* uploadFilesStep(inputId, outputId) {\n",
              "  const inputElement = document.getElementById(inputId);\n",
              "  inputElement.disabled = false;\n",
              "\n",
              "  const outputElement = document.getElementById(outputId);\n",
              "  outputElement.innerHTML = '';\n",
              "\n",
              "  const pickedPromise = new Promise((resolve) => {\n",
              "    inputElement.addEventListener('change', (e) => {\n",
              "      resolve(e.target.files);\n",
              "    });\n",
              "  });\n",
              "\n",
              "  const cancel = document.createElement('button');\n",
              "  inputElement.parentElement.appendChild(cancel);\n",
              "  cancel.textContent = 'Cancel upload';\n",
              "  const cancelPromise = new Promise((resolve) => {\n",
              "    cancel.onclick = () => {\n",
              "      resolve(null);\n",
              "    };\n",
              "  });\n",
              "\n",
              "  // Wait for the user to pick the files.\n",
              "  const files = yield {\n",
              "    promise: Promise.race([pickedPromise, cancelPromise]),\n",
              "    response: {\n",
              "      action: 'starting',\n",
              "    }\n",
              "  };\n",
              "\n",
              "  cancel.remove();\n",
              "\n",
              "  // Disable the input element since further picks are not allowed.\n",
              "  inputElement.disabled = true;\n",
              "\n",
              "  if (!files) {\n",
              "    return {\n",
              "      response: {\n",
              "        action: 'complete',\n",
              "      }\n",
              "    };\n",
              "  }\n",
              "\n",
              "  for (const file of files) {\n",
              "    const li = document.createElement('li');\n",
              "    li.append(span(file.name, {fontWeight: 'bold'}));\n",
              "    li.append(span(\n",
              "        `(${file.type || 'n/a'}) - ${file.size} bytes, ` +\n",
              "        `last modified: ${\n",
              "            file.lastModifiedDate ? file.lastModifiedDate.toLocaleDateString() :\n",
              "                                    'n/a'} - `));\n",
              "    const percent = span('0% done');\n",
              "    li.appendChild(percent);\n",
              "\n",
              "    outputElement.appendChild(li);\n",
              "\n",
              "    const fileDataPromise = new Promise((resolve) => {\n",
              "      const reader = new FileReader();\n",
              "      reader.onload = (e) => {\n",
              "        resolve(e.target.result);\n",
              "      };\n",
              "      reader.readAsArrayBuffer(file);\n",
              "    });\n",
              "    // Wait for the data to be ready.\n",
              "    let fileData = yield {\n",
              "      promise: fileDataPromise,\n",
              "      response: {\n",
              "        action: 'continue',\n",
              "      }\n",
              "    };\n",
              "\n",
              "    // Use a chunked sending to avoid message size limits. See b/62115660.\n",
              "    let position = 0;\n",
              "    do {\n",
              "      const length = Math.min(fileData.byteLength - position, MAX_PAYLOAD_SIZE);\n",
              "      const chunk = new Uint8Array(fileData, position, length);\n",
              "      position += length;\n",
              "\n",
              "      const base64 = btoa(String.fromCharCode.apply(null, chunk));\n",
              "      yield {\n",
              "        response: {\n",
              "          action: 'append',\n",
              "          file: file.name,\n",
              "          data: base64,\n",
              "        },\n",
              "      };\n",
              "\n",
              "      let percentDone = fileData.byteLength === 0 ?\n",
              "          100 :\n",
              "          Math.round((position / fileData.byteLength) * 100);\n",
              "      percent.textContent = `${percentDone}% done`;\n",
              "\n",
              "    } while (position < fileData.byteLength);\n",
              "  }\n",
              "\n",
              "  // All done.\n",
              "  yield {\n",
              "    response: {\n",
              "      action: 'complete',\n",
              "    }\n",
              "  };\n",
              "}\n",
              "\n",
              "scope.google = scope.google || {};\n",
              "scope.google.colab = scope.google.colab || {};\n",
              "scope.google.colab._files = {\n",
              "  _uploadFiles,\n",
              "  _uploadFilesContinue,\n",
              "};\n",
              "})(self);\n",
              "</script> "
            ]
          },
          "metadata": {}
        },
        {
          "output_type": "stream",
          "name": "stdout",
          "text": [
            "Saving Task 2 - AI intern.pdf to Task 2 - AI intern (15).pdf\n"
          ]
        }
      ]
    },
    {
      "cell_type": "code",
      "source": [
        "pdf_path = list(file_input.keys())[0] # path to the uploaded file"
      ],
      "metadata": {
        "id": "sp9WB2M3bg7j"
      },
      "execution_count": 24,
      "outputs": []
    },
    {
      "cell_type": "code",
      "source": [
        "clip_model = CLIPModel.from_pretrained(\"openai/clip-vit-base-patch32\") # used for both text and images\n",
        "clip_processor = CLIPProcessor.from_pretrained(\"openai/clip-vit-base-patch32\")"
      ],
      "metadata": {
        "id": "ySsjimcqbmMh"
      },
      "execution_count": 26,
      "outputs": []
    },
    {
      "cell_type": "code",
      "source": [
        "blip_processor = BlipProcessor.from_pretrained(\"Salesforce/blip-vqa-base\")\n",
        "blip_model = BlipForConditionalGeneration.from_pretrained(\"Salesforce/blip-vqa-base\")\n",
        "# multimodal processor for answer generation for user queries"
      ],
      "metadata": {
        "id": "QYPelR4fbuw1"
      },
      "execution_count": 27,
      "outputs": []
    },
    {
      "cell_type": "code",
      "source": [
        "# additional summarization using another LLM for better answer\n",
        "t5_model = T5ForConditionalGeneration.from_pretrained(\"t5-large\")\n",
        "t5_tokenizer = T5Tokenizer.from_pretrained(\"t5-large\")"
      ],
      "metadata": {
        "id": "V4raVodtb5tY"
      },
      "execution_count": 28,
      "outputs": []
    },
    {
      "cell_type": "code",
      "source": [
        "feedback_df = pd.DataFrame(columns=[\"Retrieved_Texts\", \"Retrieved_Image\", \"Summary\", \"User_Feedback\"])"
      ],
      "metadata": {
        "id": "4qM1jRZycA4s"
      },
      "execution_count": 29,
      "outputs": []
    },
    {
      "cell_type": "code",
      "source": [
        "def torch_to_numpy(tensor):\n",
        "    return tensor.detach().cpu().numpy().astype('float32')\n",
        "# torch to numpy array converter function"
      ],
      "metadata": {
        "id": "-mT1An_bcDln"
      },
      "execution_count": 30,
      "outputs": []
    },
    {
      "cell_type": "code",
      "source": [
        "def preprocess_text(text):\n",
        "    # remove bullet points, extra newlines, or unusual characters\n",
        "    text = re.sub(r'[\\u2022•●·]', '', text)  #  bullet points removal\n",
        "    text = re.sub(r'\\n+', ' ', text)  # new lines removal\n",
        "    text = re.sub(r'[^A-Za-z0-9.,!? ]+', '', text)\n",
        "    text = text.strip()\n",
        "    return text"
      ],
      "metadata": {
        "id": "zFxV1ml7cKZ1"
      },
      "execution_count": 31,
      "outputs": []
    },
    {
      "cell_type": "code",
      "source": [
        "def extraction(pdf_path):\n",
        "    textlist = []\n",
        "    imageslist = []\n",
        "\n",
        "    # Open the PDF file\n",
        "    pdf_document = fitz.open(pdf_path)\n",
        "\n",
        "    for page_number in range(len(pdf_document)):\n",
        "        page = pdf_document.load_page(page_number)\n",
        "\n",
        "        # Extract text and preprocess it\n",
        "        text = page.get_text(\"text\")\n",
        "        if text.strip():  # If there's any non-empty text, append after preprocessing\n",
        "            clean_text = preprocess_text(text)\n",
        "            textlist.append(clean_text)\n",
        "\n",
        "        # Extract images\n",
        "        images = page.get_images(full=True)\n",
        "        for img in images:\n",
        "            xref = img[0]\n",
        "            base_image = pdf_document.extract_image(xref)\n",
        "            image_bytes = base_image[\"image\"]\n",
        "            image = Image.open(BytesIO(image_bytes))\n",
        "            imageslist.append(image)\n",
        "\n",
        "    pdf_document.close()\n",
        "\n",
        "    print(f\"Extracted {len(textlist)} texts and {len(textlist)} images from the PDF.\")\n",
        "    return textlist, imageslist"
      ],
      "metadata": {
        "id": "qPfatTi0cWsG"
      },
      "execution_count": 39,
      "outputs": []
    },
    {
      "cell_type": "code",
      "source": [
        "def split_text_into_chunks(text, max_chunk_size=77):\n",
        "    # tokenize the text using the CLIP tokenizer\n",
        "    inputs = clip_processor.tokenizer(text, return_tensors=\"pt\", truncation=False)\n",
        "    input_ids = inputs[\"input_ids\"][0]\n",
        "\n",
        "    # split the tokenized input into chunks\n",
        "    chunks = [input_ids[i: i + max_chunk_size] for i in range(0, len(input_ids), max_chunk_size)]\n",
        "\n",
        "    # decode chunks back into text\n",
        "    chunked_texts = [clip_processor.tokenizer.decode(chunk, skip_special_tokens=True) for chunk in chunks]\n",
        "    return chunked_texts"
      ],
      "metadata": {
        "id": "_AdirZMcccAC"
      },
      "execution_count": 40,
      "outputs": []
    },
    {
      "cell_type": "code",
      "source": [
        "def embed_text_in_chunks(texts):\n",
        "    all_embeddings = []\n",
        "\n",
        "    for text in texts:\n",
        "        # split text into chunks to be embedded\n",
        "        text_chunks = split_text_into_chunks(text)\n",
        "\n",
        "        # embedding individually\n",
        "        for chunk in text_chunks:\n",
        "            inputs = clip_processor(text=chunk, return_tensors=\"pt\", padding=True, truncation=True)\n",
        "            chunk_embedding = clip_model.get_text_features(**inputs)\n",
        "            all_embeddings.append(chunk_embedding)\n",
        "\n",
        "    # store all embeddings into one tensor to then flatten into a 2D array\n",
        "    all_embeddings = torch.cat(all_embeddings, dim=0)\n",
        "    return all_embeddings\n"
      ],
      "metadata": {
        "id": "U8-xqTbtcf-T"
      },
      "execution_count": 55,
      "outputs": []
    },
    {
      "cell_type": "code",
      "source": [
        "def embed_images(images):\n",
        "    inputs = clip_processor(images=images, return_tensors=\"pt\")\n",
        "    image_embeddings = clip_model.get_image_features(**inputs)\n",
        "    return image_embeddings\n",
        "    # basic image embedding using CLIP"
      ],
      "metadata": {
        "id": "PTFPUklZdrQ5"
      },
      "execution_count": 42,
      "outputs": []
    },
    {
      "cell_type": "code",
      "source": [
        "def store_text_embeddings(text_embeddings, text_index):\n",
        "    text_embeddings_np = torch_to_numpy(text_embeddings)\n",
        "    print(f\"Storing {text_embeddings_np.shape[0]} text embeddings in Faiss.\")\n",
        "    text_index.add(text_embeddings_np)\n",
        "    # storing the embeddings in a multimodal vector space\n",
        "\n",
        "def store_image_embeddings(image_embeddings, image_index, image_mapping):\n",
        "    image_embeddings_np = torch_to_numpy(image_embeddings)\n",
        "    print(f\"Storing {image_embeddings_np.shape[0]} image embeddings in Faiss.\")\n",
        "    image_index.add(image_embeddings_np)\n",
        "    # mapping each embedding with the actual image so we can retrieve it easily\n",
        "    image_mapping.extend(image_embeddings_np)"
      ],
      "metadata": {
        "id": "XUkuG9D6f6IP"
      },
      "execution_count": 43,
      "outputs": []
    },
    {
      "cell_type": "code",
      "source": [
        "def retrieve_similar(query_embedding, index, k=5):\n",
        "    query_np = torch_to_numpy(query_embedding)\n",
        "    distances, indices = index.search(query_np, k)\n",
        "\n",
        "    return indices, distances\n",
        "# using the euclidean distance to retrive the top semantically similar embeddings"
      ],
      "metadata": {
        "id": "uBjIQImTgLXy"
      },
      "execution_count": 44,
      "outputs": []
    },
    {
      "cell_type": "code",
      "source": [
        "def process_pdf_and_store_in_faiss(pdf_path, text_index, image_index, image_mapping):\n",
        "    # text and images extractionfrom the PDF\n",
        "    texts, images = extraction(pdf_path)\n",
        "\n",
        "    # emebed the text and images\n",
        "    text_embeddings = embed_text_in_chunks(texts)\n",
        "    image_embeddings = embed_images(images)\n",
        "\n",
        "    # store it in faiss index\n",
        "    store_text_embeddings(text_embeddings, text_index)\n",
        "    store_image_embeddings(image_embeddings, image_index, image_mapping)\n",
        "\n",
        "    return texts, images"
      ],
      "metadata": {
        "id": "zHQhHLO3gY0k"
      },
      "execution_count": 45,
      "outputs": []
    },
    {
      "cell_type": "code",
      "source": [
        "# summarization for a better output\n",
        "def summarize_text_t5(text):\n",
        "    # preprocess the text for summarization\n",
        "    inputs = t5_tokenizer.encode(\"summarize: \" + text, return_tensors=\"pt\", max_length=1024, truncation=True)\n",
        "\n",
        "    # summary with fine-tuned parameters\n",
        "    summary_ids = t5_model.generate(\n",
        "        inputs,\n",
        "        max_length=300,  # high max length for detailed summaries\n",
        "        min_length=100,  # min length for depth\n",
        "        length_penalty=2.0,  # penalty if its too long\n",
        "        num_beams=4,  # for accuracy\n",
        "        repetition_penalty=1.5,  # penalty to reduce repetition in the answer\n",
        "        early_stopping=True\n",
        "    )\n",
        "\n",
        "    summary = t5_tokenizer.decode(summary_ids[0], skip_special_tokens=True)\n",
        "    return summary"
      ],
      "metadata": {
        "id": "4tEHQ_eOgzS3"
      },
      "execution_count": 46,
      "outputs": []
    },
    {
      "cell_type": "code",
      "source": [
        "def generate_image_caption(image):\n",
        "    inputs = blip_processor(images=image, return_tensors=\"pt\")\n",
        "    pixel_values = inputs['pixel_values']\n",
        "    out = blip_model.generate(pixel_values=pixel_values, max_new_tokens=50)\n",
        "    caption = blip_processor.decode(out[0], skip_special_tokens=True)\n",
        "    return caption\n",
        "    # image caption generation so blip can effective answer the questions regarding the images"
      ],
      "metadata": {
        "id": "LhwV42wQhN9T"
      },
      "execution_count": 47,
      "outputs": []
    },
    {
      "cell_type": "code",
      "source": [
        "def generate_answer_with_caption(caption, text, image, max_new_tokens=50):\n",
        "    combined_input = f\"The image shows: {caption}. {text}\"\n",
        "    inputs = blip_processor(text=combined_input, images=image, return_tensors=\"pt\")\n",
        "    out = blip_model.generate(**inputs, max_new_tokens=max_new_tokens)\n",
        "    answer = blip_processor.decode(out[0], skip_special_tokens=True)\n",
        "    return answer\n",
        "    # the answer returned has the caption that blip generated for better context"
      ],
      "metadata": {
        "id": "VY-pvRBIhWzu"
      },
      "execution_count": 48,
      "outputs": []
    },
    {
      "cell_type": "code",
      "source": [
        "# auto checking feedback loop\n",
        "def feedback_loop_auto(answer, feedback_df):\n",
        "    # if the answer is too short\n",
        "    word_count = len(answer.split())\n",
        "\n",
        "    # repeated phrases\n",
        "    repeated_phrases = len(set(answer.split())) < len(answer.split()) * 0.75  # random threshold\n",
        "\n",
        "    # feedback based on these conditions\n",
        "    if word_count < 50 or repeated_phrases:\n",
        "        user_feedback = \"incorrect\"\n",
        "        print(\"Feedback: The generated answer is too short or contains repetition.\")\n",
        "    else:\n",
        "        user_feedback = \"correct\"\n",
        "        print(\"Feedback: The generated answer is good.\")\n",
        "\n",
        "    # Log feedback in the DataFrame\n",
        "    feedback_row = {\n",
        "        \"Summary\": answer,\n",
        "        \"User_Feedback\": user_feedback\n",
        "    }\n",
        "    feedback_row_df = pd.DataFrame([feedback_row])\n",
        "    feedback_df = pd.concat([feedback_df, feedback_row_df], ignore_index=True)\n",
        "\n",
        "    # feedback_df.to_csv(\"feedback_log.csv\", index=False)\n",
        "    return feedback_df"
      ],
      "metadata": {
        "id": "aCcQfJmDhpuR"
      },
      "execution_count": 49,
      "outputs": []
    },
    {
      "cell_type": "code",
      "source": [
        "def query_faiss_for_text_and_images(user_query, text_index, image_index, texts, image_mapping, images, feedback_df):\n",
        "    # emebedding the query and then doing smeantic retrieval\n",
        "    query_embedding = embed_text_in_chunks([user_query])\n",
        "    retrieved_text_indices, retrieved_text_distances = retrieve_similar(query_embedding, text_index, k=5)\n",
        "    retrieved_image_indices, retrieved_image_distances = retrieve_similar(query_embedding, image_index, k=1)\n",
        "\n",
        "    # display retrieved text results without duplicity\n",
        "    retrieved_texts = []\n",
        "    print(\"\\nRetrieved Texts:\")\n",
        "    for idx in np.unique(retrieved_text_indices[0]):\n",
        "        if idx < len(texts):\n",
        "            print(f\"Text {idx+1}: {texts[idx]}\")\n",
        "            retrieved_texts.append(texts[idx])\n",
        "\n",
        "    # concatenate all the retrieved inputs\n",
        "    if len(retrieved_texts) > 1:\n",
        "        combined_text = \" \".join(retrieved_texts[:2])  # Combine first two retrieved texts\n",
        "    else:\n",
        "        combined_text = retrieved_texts[0]\n",
        "\n",
        "    # display the image\n",
        "    print(\"\\nRetrieved Images:\")\n",
        "    retrieved_image = None\n",
        "    for idx in retrieved_image_indices[0]:\n",
        "        if idx < len(image_mapping):\n",
        "            print(f\"Image {idx+1} retrieved.\")\n",
        "            plt.imshow(images[idx])\n",
        "            plt.axis('off')  # Turn off the axis\n",
        "            plt.show()  # Display the image\n",
        "            retrieved_image = images[idx]  # Store the retrieved image for answer generation\n",
        "\n",
        "\n",
        "    # caption for the image in the document and combine it with the retrieved text for answer generation\n",
        "    if combined_text and retrieved_image:\n",
        "        print(\"\\nGenerated Answer:\")\n",
        "        image_caption = generate_image_caption(retrieved_image)\n",
        "        answer = generate_answer_with_caption(image_caption, combined_text, retrieved_image, max_new_tokens=100)\n",
        "\n",
        "        print(\"\\nAnswer before summarization:\")\n",
        "        print(textwrap.fill(answer, width=80))\n",
        "\n",
        "        # summarize the answer using T5 model for better results\n",
        "        summarized_answer = summarize_text_t5(answer)\n",
        "        print(\"\\nSummarized Answer:\")\n",
        "        print(textwrap.fill(summarized_answer, width=80))\n",
        "\n",
        "        # feedback loop based on answer quality\n",
        "        feedback_df = feedback_loop_auto(summarized_answer, feedback_df)\n",
        "\n",
        "    return feedback_df\n"
      ],
      "metadata": {
        "id": "5jc1Kxpxh8Hv"
      },
      "execution_count": 51,
      "outputs": []
    },
    {
      "cell_type": "code",
      "source": [
        "text_index = faiss.IndexFlatL2(512)  # Faiss index for text embeddings (512-dimensional for CLIP)\n",
        "image_index = faiss.IndexFlatL2(512)  # Faiss index for image embeddings (512-dimensional for CLIP)\n",
        "image_mapping = []"
      ],
      "metadata": {
        "id": "12lnlF_Sidgd"
      },
      "execution_count": 52,
      "outputs": []
    },
    {
      "cell_type": "code",
      "source": [
        "texts, images = process_pdf_and_store_in_faiss(pdf_path, text_index, image_index, image_mapping)"
      ],
      "metadata": {
        "colab": {
          "base_uri": "https://localhost:8080/"
        },
        "id": "bduJ8U_ljD7H",
        "outputId": "c320fb1c-1b4c-4233-d475-1665bfffd3a4"
      },
      "execution_count": 56,
      "outputs": [
        {
          "output_type": "stream",
          "name": "stdout",
          "text": [
            "Extracted 2 texts and 2 images from the PDF.\n",
            "Storing 5 text embeddings in Faiss.\n",
            "Storing 1 image embeddings in Faiss.\n"
          ]
        }
      ]
    },
    {
      "cell_type": "code",
      "source": [
        "user_query = input(\"Enter your query: \")"
      ],
      "metadata": {
        "colab": {
          "base_uri": "https://localhost:8080/"
        },
        "id": "iNHyniL_jGLE",
        "outputId": "cb320014-29be-4067-f5ad-7905daa889dd"
      },
      "execution_count": 57,
      "outputs": [
        {
          "name": "stdout",
          "output_type": "stream",
          "text": [
            "Enter your query: Describe the document and the image.\n"
          ]
        }
      ]
    },
    {
      "cell_type": "code",
      "source": [
        "feedback_df = query_faiss_for_text_and_images(user_query, text_index, image_index, texts, image_mapping, images, feedback_df)"
      ],
      "metadata": {
        "colab": {
          "base_uri": "https://localhost:8080/",
          "height": 1000
        },
        "id": "97oR8R7kjL_o",
        "outputId": "5bc9bc7e-4b11-4224-f22c-75363cc1f658"
      },
      "execution_count": 58,
      "outputs": [
        {
          "output_type": "stream",
          "name": "stdout",
          "text": [
            "\n",
            "Retrieved Texts:\n",
            "Text 1: Task Multimodal RAG application Goal Implement a multimodal query processing workflow that handles both text and image inputs, without relying on OCR for image content extraction. Utilise a multimodal large language model LLM to process retrieved text and images for generating responses. Objective Build a complete pipeline following the given workflow that supports multimodal content retrieval and generation. Extract both text and image content from documents and embed them into a shared multimodal vector space. Perform semantic retrieval based on user queries to fetch relevant text and image data. Feed retrieved images and texts into a multimodal LLM that generates an answer based on both types of input. Avoid using OCR for image processing instead, the images should be processed directly as part of the multimodal input to the LLM. The pipeline should be robust and capable of handling diverse user queries, reflecting the multimodal approach in every step.\n",
            "Text 2: Evaluation Criteria Pipeline Architecture Follow the workflow, using multimodal embedding models and retrieval. Multimodal Retrieval and Generation Ensure accurate retrieval of text and images and integrate them into the LLM. Error Handling  Feedback Handle missing data gracefully and include a feedback loop for improving results. Code Quality Code should be readable, modular, and welldocumented. Deliverables GitHub Repository Full code with a clear README on setup and usage. Explanation Video A 510 minute video explaining the workflow, key decisions, and a live demo.\n",
            "\n",
            "Retrieved Images:\n",
            "Image 1 retrieved.\n"
          ]
        },
        {
          "output_type": "display_data",
          "data": {
            "text/plain": [
              "<Figure size 640x480 with 1 Axes>"
            ],
            "image/png": "[encoded data removed]"
          },
          "metadata": {}
        },
        {
          "output_type": "stream",
          "name": "stdout",
          "text": [
            "\n",
            "Generated Answer:\n",
            "\n",
            "Answer before summarization:\n",
            "the image shows : it is called it's flow. task multimodal rag application goal\n",
            "implement a multimodal query processing workflow that handles both text and\n",
            "image inputs, without relying on ocr for image content extraction. utilise a\n",
            "multimodal large language model llm to process retrieved text and images for\n",
            "generating responses. objective build a complete pipeline following the given\n",
            "workflow that supports multimodal content retrieval and generation. extract both\n",
            "text and image content from documents and embed them into a shared multimodal\n",
            "vector space. perform semantic retrieval based on user queries to fetch relevant\n",
            "text and image data. feed retrieved images and texts into a multimodal llm that\n",
            "generates an answer based on both types of input. avoid using ocr for image\n",
            "processing instead, the images should be processed directly as part of the\n",
            "multimodal input to the llm. the pipeline should be robust and capable of\n",
            "handling diverse user queries, reflecting the multimodal approach in every step.\n",
            "evaluation criteria pipeline architecture follow the workflow, using multimodal\n",
            "embedding models and retrieval. multimodal retrieval and generation ensure\n",
            "accurate retrieval of text and images and integrate them into the llm. error\n",
            "handling feedback handle missing data gracefully and include a feedback loop for\n",
            "improving results. code quality code should be readable, modular, and\n",
            "welldocumented. deliverables github repository full code with a clear readme on\n",
            "setup and usage. explanation video a 510 minute video explaining the workflow,\n",
            "key decisions, and a live demo.\n",
            "\n",
            "Summarized Answer:\n",
            "task multimodal rag application goal implement a multimodal query processing\n",
            "workflow that handles both text and image inputs. avoid relying on ocr for image\n",
            "content extraction instead, the images should be processed directly as part of\n",
            "the multimodal input to the llm. deliverables github repository full code with a\n",
            "clear readme on setup and usage. explanation video a 510 minute video explaining\n",
            "the workflow, key decisions, and live demo.\n",
            "Feedback: The generated answer is good.\n"
          ]
        }
      ]
    }
  ]
}